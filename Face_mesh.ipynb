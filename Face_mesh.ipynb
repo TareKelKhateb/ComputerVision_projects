{
 "cells": [
  {
   "cell_type": "code",
   "execution_count": 2,
   "id": "0b8205cc",
   "metadata": {},
   "outputs": [],
   "source": [
    "import mediapipe as mp\n",
    "import numpy as np\n",
    "import cv2"
   ]
  },
  {
   "cell_type": "code",
   "execution_count": 3,
   "id": "1f30dc94",
   "metadata": {},
   "outputs": [
    {
     "name": "stderr",
     "output_type": "stream",
     "text": [
      "C:\\Users\\tarek\\anaconda3\\lib\\site-packages\\google\\protobuf\\symbol_database.py:78: UserWarning: SymbolDatabase.GetPrototype() is deprecated. Please use message_factory.GetMessageClass() instead. SymbolDatabase.GetPrototype() will be removed soon.\n",
      "  warnings.warn('SymbolDatabase.GetPrototype() is deprecated. Please '\n"
     ]
    }
   ],
   "source": [
    "\n",
    "cap = cv2.VideoCapture(0)\n",
    "face_mesh = mp.solutions.face_mesh\n",
    "face = face_mesh.FaceMesh(static_image_mode=True, min_detection_confidence=0.5, min_tracking_confidence=0.6)\n",
    "draw = mp.solutions.drawing_utils\n",
    "\n",
    "cv2.namedWindow('Face Mesh Detection', cv2.WINDOW_NORMAL)\n",
    "\n",
    "while True:\n",
    "    _, frame = cap.read()\n",
    "    rgb = cv2.cvtColor(frame, cv2.COLOR_BGR2RGB)\n",
    "    op = face.process(rgb)\n",
    "\n",
    "    if op.multi_face_landmarks:\n",
    "        mask = np.zeros_like(frame)\n",
    "\n",
    "        for face_landmarks in op.multi_face_landmarks:\n",
    "           \n",
    "            draw.draw_landmarks(mask, face_landmarks, mp.solutions.face_mesh.FACEMESH_CONTOURS)\n",
    "\n",
    "        \n",
    "        frame_with_mesh = cv2.bitwise_and(frame, mask)\n",
    "\n",
    "        cv2.imshow('Face Mesh Detection', frame_with_mesh)\n",
    "\n",
    "    if cv2.waitKey(1) == 27:\n",
    "        break\n",
    "\n",
    "cap.release()\n",
    "cv2.destroyAllWindows()\n"
   ]
  },
  {
   "cell_type": "code",
   "execution_count": null,
   "id": "d6e0ac80",
   "metadata": {},
   "outputs": [],
   "source": []
  }
 ],
 "metadata": {
  "kernelspec": {
   "display_name": "Python 3 (ipykernel)",
   "language": "python",
   "name": "python3"
  },
  "language_info": {
   "codemirror_mode": {
    "name": "ipython",
    "version": 3
   },
   "file_extension": ".py",
   "mimetype": "text/x-python",
   "name": "python",
   "nbconvert_exporter": "python",
   "pygments_lexer": "ipython3",
   "version": "3.9.12"
  }
 },
 "nbformat": 4,
 "nbformat_minor": 5
}
